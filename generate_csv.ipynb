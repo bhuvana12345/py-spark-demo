{
  "nbformat": 4,
  "nbformat_minor": 0,
  "metadata": {
    "colab": {
      "provenance": []
    },
    "kernelspec": {
      "name": "python3",
      "display_name": "Python 3"
    },
    "language_info": {
      "name": "python"
    }
  },
  "cells": [
    {
      "cell_type": "code",
      "source": [
        "pip install Faker"
      ],
      "metadata": {
        "colab": {
          "base_uri": "https://localhost:8080/"
        },
        "id": "VonK3gHDkHkZ",
        "outputId": "66f09039-b32b-4b47-b86c-4d8efd961ace"
      },
      "execution_count": 6,
      "outputs": [
        {
          "output_type": "stream",
          "name": "stdout",
          "text": [
            "Requirement already satisfied: Faker in /usr/local/lib/python3.10/dist-packages (33.0.0)\n",
            "Requirement already satisfied: python-dateutil>=2.4 in /usr/local/lib/python3.10/dist-packages (from Faker) (2.8.2)\n",
            "Requirement already satisfied: typing-extensions in /usr/local/lib/python3.10/dist-packages (from Faker) (4.12.2)\n",
            "Requirement already satisfied: six>=1.5 in /usr/local/lib/python3.10/dist-packages (from python-dateutil>=2.4->Faker) (1.16.0)\n"
          ]
        }
      ]
    },
    {
      "cell_type": "code",
      "execution_count": 7,
      "metadata": {
        "id": "VWSpM-h1-KXk",
        "colab": {
          "base_uri": "https://localhost:8080/"
        },
        "outputId": "bc938466-1ac8-48e8-871c-b9b8dda919ef"
      },
      "outputs": [
        {
          "output_type": "execute_result",
          "data": {
            "text/plain": [
              "(  customer_id     customer_name                   email          phone_number  \\\n",
              " 0     CUST001                        paul34@example.com                  None   \n",
              " 1     CUST002                      nmccarty@example.com       +1-469-787-6239   \n",
              " 2     CUST003         Mary Lara       amy13@example.com          735-429-7535   \n",
              " 3     CUST004              None    zjohnson@example.net     684.938.0161x4528   \n",
              " 4     CUST005  Michelle Simmons  welchjames@example.com  +1-444-863-7007x0022   \n",
              " \n",
              "                                              address  \n",
              " 0  2371 Gonzalez Pines Apt. 639\\nSouth Charlesmou...  \n",
              " 1                   PSC 3667, Box 2510\\nAPO AP 45093  \n",
              " 2                                                     \n",
              " 3            5872 Fisher Valley\\nThomaston, WV 42587  \n",
              " 4       3308 Steele Village\\nTeresachester, SC 08185  ,\n",
              "   product_id product_name  price   category\n",
              " 0    PROD001     Behavior   None       None\n",
              " 1    PROD002         Home  68.36       None\n",
              " 2    PROD003         None  61.96  treatment\n",
              " 3    PROD004          Dog  62.93    various\n",
              " 4    PROD005      Involve   None        but,\n",
              "   order_id customer_id product_id  order_date  quantity total_price\n",
              " 0   ORD001     CUST018    PROD080  2024-02-18      10.0      438.39\n",
              " 1   ORD002     CUST028    PROD020                   NaN       332.0\n",
              " 2   ORD003     CUST072    PROD026  2024-08-18       NaN      374.82\n",
              " 3   ORD004     CUST069    PROD039  2024-08-21       3.0       97.41\n",
              " 4   ORD005     CUST086    PROD078  2024-02-14       2.0      417.44)"
            ]
          },
          "metadata": {},
          "execution_count": 7
        }
      ],
      "source": [
        "import pandas as pd\n",
        "import numpy as np\n",
        "import random\n",
        "from faker import Faker\n",
        "\n",
        "# Initialize Faker for generating random data\n",
        "fake = Faker()\n",
        "\n",
        "# Number of records\n",
        "num_records = 100\n",
        "\n",
        "# Generate Customer Table\n",
        "customers = {\n",
        "    \"customer_id\": [f\"CUST{str(i).zfill(3)}\" for i in range(1, num_records + 1)],\n",
        "    \"customer_name\": [fake.name() for _ in range(num_records)],\n",
        "    \"email\": [fake.email() for _ in range(num_records)],\n",
        "    \"phone_number\": [fake.phone_number() for _ in range(num_records)],\n",
        "    \"address\": [fake.address() for _ in range(num_records)],\n",
        "}\n",
        "\n",
        "# Introduce random NULL and blank values\n",
        "for col in [\"customer_name\", \"email\", \"phone_number\", \"address\"]:\n",
        "    customers[col] = [None if random.random() < 0.1 else x for x in customers[col]]\n",
        "    customers[col] = [\" \" if random.random() < 0.05 else x for x in customers[col]]\n",
        "\n",
        "customers_df = pd.DataFrame(customers)\n",
        "\n",
        "# Generate Products Table\n",
        "products = {\n",
        "    \"product_id\": [f\"PROD{str(i).zfill(3)}\" for i in range(1, num_records + 1)],\n",
        "    \"product_name\": [fake.word().capitalize() for _ in range(num_records)],\n",
        "    \"price\": [round(random.uniform(5, 100), 2) for _ in range(num_records)],\n",
        "    \"category\": [fake.word() for _ in range(num_records)]\n",
        "}\n",
        "\n",
        "# Introduce random NULL and blank values\n",
        "for col in [\"product_name\", \"price\", \"category\"]:\n",
        "    products[col] = [None if random.random() < 0.1 else x for x in products[col]]\n",
        "    products[col] = [\" \" if random.random() < 0.05 else x for x in products[col]]\n",
        "\n",
        "products_df = pd.DataFrame(products)\n",
        "\n",
        "# Generate Orders Table\n",
        "orders = {\n",
        "    \"order_id\": [f\"ORD{str(i).zfill(3)}\" for i in range(1, num_records + 1)],\n",
        "    \"customer_id\": [random.choice(customers[\"customer_id\"]) for _ in range(num_records)],\n",
        "    \"product_id\": [random.choice(products[\"product_id\"]) for _ in range(num_records)],\n",
        "    \"order_date\": [fake.date_this_year() for _ in range(num_records)],\n",
        "    \"quantity\": [random.randint(1, 10) for _ in range(num_records)],\n",
        "    \"total_price\": [round(random.uniform(10, 500), 2) for _ in range(num_records)]\n",
        "}\n",
        "\n",
        "# Introduce random NULL and blank values\n",
        "for col in [\"customer_id\", \"product_id\", \"order_date\", \"quantity\", \"total_price\"]:\n",
        "    orders[col] = [None if random.random() < 0.1 else x for x in orders[col]]\n",
        "    orders[col] = [\" \" if random.random() < 0.05 else x for x in orders[col]]\n",
        "\n",
        "orders_df = pd.DataFrame(orders)\n",
        "\n",
        "# Save to CSV files\n",
        "customers_df.to_csv('customers.csv', index=False)\n",
        "products_df.to_csv('products.csv', index=False)\n",
        "orders_df.to_csv('orders.csv', index=False)\n",
        "\n",
        "# Displaying sample rows\n",
        "customers_df.head(), products_df.head(), orders_df.head()\n",
        "\n"
      ]
    },
    {
      "cell_type": "code",
      "source": [],
      "metadata": {
        "id": "OQ1oHxeki_3W"
      },
      "execution_count": 5,
      "outputs": []
    },
    {
      "cell_type": "code",
      "source": [],
      "metadata": {
        "id": "JoVlJq7_i8qy"
      },
      "execution_count": null,
      "outputs": []
    }
  ]
}